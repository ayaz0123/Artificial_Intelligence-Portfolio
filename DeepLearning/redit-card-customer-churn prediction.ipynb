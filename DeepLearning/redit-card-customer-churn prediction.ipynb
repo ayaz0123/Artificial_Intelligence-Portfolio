{
 "cells": [
  {
   "cell_type": "code",
   "execution_count": 22,
   "metadata": {},
   "outputs": [],
   "source": [
    "import tensorflow as tf\n",
    "from tensorflow import keras\n",
    "from keras import layers,Sequential\n"
   ]
  },
  {
   "cell_type": "code",
   "execution_count": 23,
   "metadata": {},
   "outputs": [],
   "source": [
    "import pandas as pd\n",
    "import numpy as np\n",
    "import matplotlib.pyplot as plt\n",
    "import seaborn as sns\n",
    "from sklearn.model_selection import train_test_split\n",
    "from sklearn.preprocessing import StandardScaler, LabelEncoder"
   ]
  },
  {
   "cell_type": "code",
   "execution_count": 3,
   "metadata": {},
   "outputs": [],
   "source": [
    "df=pd.read_csv('F:\\All_Certificates\\Artificial_Intelligence\\Machine learning\\DeepLearning\\Churn_Modelling.csv')"
   ]
  },
  {
   "cell_type": "code",
   "execution_count": 4,
   "metadata": {},
   "outputs": [
    {
     "data": {
      "text/html": [
       "<div>\n",
       "<style scoped>\n",
       "    .dataframe tbody tr th:only-of-type {\n",
       "        vertical-align: middle;\n",
       "    }\n",
       "\n",
       "    .dataframe tbody tr th {\n",
       "        vertical-align: top;\n",
       "    }\n",
       "\n",
       "    .dataframe thead th {\n",
       "        text-align: right;\n",
       "    }\n",
       "</style>\n",
       "<table border=\"1\" class=\"dataframe\">\n",
       "  <thead>\n",
       "    <tr style=\"text-align: right;\">\n",
       "      <th></th>\n",
       "      <th>RowNumber</th>\n",
       "      <th>CustomerId</th>\n",
       "      <th>Surname</th>\n",
       "      <th>CreditScore</th>\n",
       "      <th>Geography</th>\n",
       "      <th>Gender</th>\n",
       "      <th>Age</th>\n",
       "      <th>Tenure</th>\n",
       "      <th>Balance</th>\n",
       "      <th>NumOfProducts</th>\n",
       "      <th>HasCrCard</th>\n",
       "      <th>IsActiveMember</th>\n",
       "      <th>EstimatedSalary</th>\n",
       "      <th>Exited</th>\n",
       "    </tr>\n",
       "  </thead>\n",
       "  <tbody>\n",
       "    <tr>\n",
       "      <th>0</th>\n",
       "      <td>1</td>\n",
       "      <td>15634602</td>\n",
       "      <td>Hargrave</td>\n",
       "      <td>619</td>\n",
       "      <td>France</td>\n",
       "      <td>Female</td>\n",
       "      <td>42</td>\n",
       "      <td>2</td>\n",
       "      <td>0.00</td>\n",
       "      <td>1</td>\n",
       "      <td>1</td>\n",
       "      <td>1</td>\n",
       "      <td>101348.88</td>\n",
       "      <td>1</td>\n",
       "    </tr>\n",
       "    <tr>\n",
       "      <th>1</th>\n",
       "      <td>2</td>\n",
       "      <td>15647311</td>\n",
       "      <td>Hill</td>\n",
       "      <td>608</td>\n",
       "      <td>Spain</td>\n",
       "      <td>Female</td>\n",
       "      <td>41</td>\n",
       "      <td>1</td>\n",
       "      <td>83807.86</td>\n",
       "      <td>1</td>\n",
       "      <td>0</td>\n",
       "      <td>1</td>\n",
       "      <td>112542.58</td>\n",
       "      <td>0</td>\n",
       "    </tr>\n",
       "    <tr>\n",
       "      <th>2</th>\n",
       "      <td>3</td>\n",
       "      <td>15619304</td>\n",
       "      <td>Onio</td>\n",
       "      <td>502</td>\n",
       "      <td>France</td>\n",
       "      <td>Female</td>\n",
       "      <td>42</td>\n",
       "      <td>8</td>\n",
       "      <td>159660.80</td>\n",
       "      <td>3</td>\n",
       "      <td>1</td>\n",
       "      <td>0</td>\n",
       "      <td>113931.57</td>\n",
       "      <td>1</td>\n",
       "    </tr>\n",
       "    <tr>\n",
       "      <th>3</th>\n",
       "      <td>4</td>\n",
       "      <td>15701354</td>\n",
       "      <td>Boni</td>\n",
       "      <td>699</td>\n",
       "      <td>France</td>\n",
       "      <td>Female</td>\n",
       "      <td>39</td>\n",
       "      <td>1</td>\n",
       "      <td>0.00</td>\n",
       "      <td>2</td>\n",
       "      <td>0</td>\n",
       "      <td>0</td>\n",
       "      <td>93826.63</td>\n",
       "      <td>0</td>\n",
       "    </tr>\n",
       "    <tr>\n",
       "      <th>4</th>\n",
       "      <td>5</td>\n",
       "      <td>15737888</td>\n",
       "      <td>Mitchell</td>\n",
       "      <td>850</td>\n",
       "      <td>Spain</td>\n",
       "      <td>Female</td>\n",
       "      <td>43</td>\n",
       "      <td>2</td>\n",
       "      <td>125510.82</td>\n",
       "      <td>1</td>\n",
       "      <td>1</td>\n",
       "      <td>1</td>\n",
       "      <td>79084.10</td>\n",
       "      <td>0</td>\n",
       "    </tr>\n",
       "  </tbody>\n",
       "</table>\n",
       "</div>"
      ],
      "text/plain": [
       "   RowNumber  CustomerId   Surname  CreditScore Geography  Gender  Age  \\\n",
       "0          1    15634602  Hargrave          619    France  Female   42   \n",
       "1          2    15647311      Hill          608     Spain  Female   41   \n",
       "2          3    15619304      Onio          502    France  Female   42   \n",
       "3          4    15701354      Boni          699    France  Female   39   \n",
       "4          5    15737888  Mitchell          850     Spain  Female   43   \n",
       "\n",
       "   Tenure    Balance  NumOfProducts  HasCrCard  IsActiveMember  \\\n",
       "0       2       0.00              1          1               1   \n",
       "1       1   83807.86              1          0               1   \n",
       "2       8  159660.80              3          1               0   \n",
       "3       1       0.00              2          0               0   \n",
       "4       2  125510.82              1          1               1   \n",
       "\n",
       "   EstimatedSalary  Exited  \n",
       "0        101348.88       1  \n",
       "1        112542.58       0  \n",
       "2        113931.57       1  \n",
       "3         93826.63       0  \n",
       "4         79084.10       0  "
      ]
     },
     "execution_count": 4,
     "metadata": {},
     "output_type": "execute_result"
    }
   ],
   "source": [
    "df.head()"
   ]
  },
  {
   "cell_type": "code",
   "execution_count": 5,
   "metadata": {},
   "outputs": [],
   "source": [
    "df.drop(columns=['RowNumber','CustomerId','Surname'],inplace=True)"
   ]
  },
  {
   "cell_type": "code",
   "execution_count": 6,
   "metadata": {},
   "outputs": [
    {
     "data": {
      "text/html": [
       "<div>\n",
       "<style scoped>\n",
       "    .dataframe tbody tr th:only-of-type {\n",
       "        vertical-align: middle;\n",
       "    }\n",
       "\n",
       "    .dataframe tbody tr th {\n",
       "        vertical-align: top;\n",
       "    }\n",
       "\n",
       "    .dataframe thead th {\n",
       "        text-align: right;\n",
       "    }\n",
       "</style>\n",
       "<table border=\"1\" class=\"dataframe\">\n",
       "  <thead>\n",
       "    <tr style=\"text-align: right;\">\n",
       "      <th></th>\n",
       "      <th>CreditScore</th>\n",
       "      <th>Geography</th>\n",
       "      <th>Gender</th>\n",
       "      <th>Age</th>\n",
       "      <th>Tenure</th>\n",
       "      <th>Balance</th>\n",
       "      <th>NumOfProducts</th>\n",
       "      <th>HasCrCard</th>\n",
       "      <th>IsActiveMember</th>\n",
       "      <th>EstimatedSalary</th>\n",
       "      <th>Exited</th>\n",
       "    </tr>\n",
       "  </thead>\n",
       "  <tbody>\n",
       "    <tr>\n",
       "      <th>0</th>\n",
       "      <td>619</td>\n",
       "      <td>France</td>\n",
       "      <td>Female</td>\n",
       "      <td>42</td>\n",
       "      <td>2</td>\n",
       "      <td>0.00</td>\n",
       "      <td>1</td>\n",
       "      <td>1</td>\n",
       "      <td>1</td>\n",
       "      <td>101348.88</td>\n",
       "      <td>1</td>\n",
       "    </tr>\n",
       "    <tr>\n",
       "      <th>1</th>\n",
       "      <td>608</td>\n",
       "      <td>Spain</td>\n",
       "      <td>Female</td>\n",
       "      <td>41</td>\n",
       "      <td>1</td>\n",
       "      <td>83807.86</td>\n",
       "      <td>1</td>\n",
       "      <td>0</td>\n",
       "      <td>1</td>\n",
       "      <td>112542.58</td>\n",
       "      <td>0</td>\n",
       "    </tr>\n",
       "    <tr>\n",
       "      <th>2</th>\n",
       "      <td>502</td>\n",
       "      <td>France</td>\n",
       "      <td>Female</td>\n",
       "      <td>42</td>\n",
       "      <td>8</td>\n",
       "      <td>159660.80</td>\n",
       "      <td>3</td>\n",
       "      <td>1</td>\n",
       "      <td>0</td>\n",
       "      <td>113931.57</td>\n",
       "      <td>1</td>\n",
       "    </tr>\n",
       "    <tr>\n",
       "      <th>3</th>\n",
       "      <td>699</td>\n",
       "      <td>France</td>\n",
       "      <td>Female</td>\n",
       "      <td>39</td>\n",
       "      <td>1</td>\n",
       "      <td>0.00</td>\n",
       "      <td>2</td>\n",
       "      <td>0</td>\n",
       "      <td>0</td>\n",
       "      <td>93826.63</td>\n",
       "      <td>0</td>\n",
       "    </tr>\n",
       "    <tr>\n",
       "      <th>4</th>\n",
       "      <td>850</td>\n",
       "      <td>Spain</td>\n",
       "      <td>Female</td>\n",
       "      <td>43</td>\n",
       "      <td>2</td>\n",
       "      <td>125510.82</td>\n",
       "      <td>1</td>\n",
       "      <td>1</td>\n",
       "      <td>1</td>\n",
       "      <td>79084.10</td>\n",
       "      <td>0</td>\n",
       "    </tr>\n",
       "  </tbody>\n",
       "</table>\n",
       "</div>"
      ],
      "text/plain": [
       "   CreditScore Geography  Gender  Age  Tenure    Balance  NumOfProducts  \\\n",
       "0          619    France  Female   42       2       0.00              1   \n",
       "1          608     Spain  Female   41       1   83807.86              1   \n",
       "2          502    France  Female   42       8  159660.80              3   \n",
       "3          699    France  Female   39       1       0.00              2   \n",
       "4          850     Spain  Female   43       2  125510.82              1   \n",
       "\n",
       "   HasCrCard  IsActiveMember  EstimatedSalary  Exited  \n",
       "0          1               1        101348.88       1  \n",
       "1          0               1        112542.58       0  \n",
       "2          1               0        113931.57       1  \n",
       "3          0               0         93826.63       0  \n",
       "4          1               1         79084.10       0  "
      ]
     },
     "execution_count": 6,
     "metadata": {},
     "output_type": "execute_result"
    }
   ],
   "source": [
    "df.head()"
   ]
  },
  {
   "cell_type": "code",
   "execution_count": 8,
   "metadata": {},
   "outputs": [
    {
     "data": {
      "text/plain": [
       "Geography\n",
       "France     5014\n",
       "Germany    2509\n",
       "Spain      2477\n",
       "Name: count, dtype: int64"
      ]
     },
     "execution_count": 8,
     "metadata": {},
     "output_type": "execute_result"
    }
   ],
   "source": [
    "df['Geography'].value_counts()"
   ]
  },
  {
   "cell_type": "code",
   "execution_count": 10,
   "metadata": {},
   "outputs": [
    {
     "data": {
      "text/plain": [
       "Gender\n",
       "Male      5457\n",
       "Female    4543\n",
       "Name: count, dtype: int64"
      ]
     },
     "execution_count": 10,
     "metadata": {},
     "output_type": "execute_result"
    }
   ],
   "source": [
    "df['Gender'].value_counts()"
   ]
  },
  {
   "cell_type": "code",
   "execution_count": 11,
   "metadata": {},
   "outputs": [],
   "source": [
    "df=pd.get_dummies(df,columns=['Geography','Gender'],drop_first=True)"
   ]
  },
  {
   "cell_type": "code",
   "execution_count": 12,
   "metadata": {},
   "outputs": [
    {
     "data": {
      "text/html": [
       "<div>\n",
       "<style scoped>\n",
       "    .dataframe tbody tr th:only-of-type {\n",
       "        vertical-align: middle;\n",
       "    }\n",
       "\n",
       "    .dataframe tbody tr th {\n",
       "        vertical-align: top;\n",
       "    }\n",
       "\n",
       "    .dataframe thead th {\n",
       "        text-align: right;\n",
       "    }\n",
       "</style>\n",
       "<table border=\"1\" class=\"dataframe\">\n",
       "  <thead>\n",
       "    <tr style=\"text-align: right;\">\n",
       "      <th></th>\n",
       "      <th>CreditScore</th>\n",
       "      <th>Age</th>\n",
       "      <th>Tenure</th>\n",
       "      <th>Balance</th>\n",
       "      <th>NumOfProducts</th>\n",
       "      <th>HasCrCard</th>\n",
       "      <th>IsActiveMember</th>\n",
       "      <th>EstimatedSalary</th>\n",
       "      <th>Exited</th>\n",
       "      <th>Geography_Germany</th>\n",
       "      <th>Geography_Spain</th>\n",
       "      <th>Gender_Male</th>\n",
       "    </tr>\n",
       "  </thead>\n",
       "  <tbody>\n",
       "    <tr>\n",
       "      <th>0</th>\n",
       "      <td>619</td>\n",
       "      <td>42</td>\n",
       "      <td>2</td>\n",
       "      <td>0.00</td>\n",
       "      <td>1</td>\n",
       "      <td>1</td>\n",
       "      <td>1</td>\n",
       "      <td>101348.88</td>\n",
       "      <td>1</td>\n",
       "      <td>False</td>\n",
       "      <td>False</td>\n",
       "      <td>False</td>\n",
       "    </tr>\n",
       "    <tr>\n",
       "      <th>1</th>\n",
       "      <td>608</td>\n",
       "      <td>41</td>\n",
       "      <td>1</td>\n",
       "      <td>83807.86</td>\n",
       "      <td>1</td>\n",
       "      <td>0</td>\n",
       "      <td>1</td>\n",
       "      <td>112542.58</td>\n",
       "      <td>0</td>\n",
       "      <td>False</td>\n",
       "      <td>True</td>\n",
       "      <td>False</td>\n",
       "    </tr>\n",
       "    <tr>\n",
       "      <th>2</th>\n",
       "      <td>502</td>\n",
       "      <td>42</td>\n",
       "      <td>8</td>\n",
       "      <td>159660.80</td>\n",
       "      <td>3</td>\n",
       "      <td>1</td>\n",
       "      <td>0</td>\n",
       "      <td>113931.57</td>\n",
       "      <td>1</td>\n",
       "      <td>False</td>\n",
       "      <td>False</td>\n",
       "      <td>False</td>\n",
       "    </tr>\n",
       "    <tr>\n",
       "      <th>3</th>\n",
       "      <td>699</td>\n",
       "      <td>39</td>\n",
       "      <td>1</td>\n",
       "      <td>0.00</td>\n",
       "      <td>2</td>\n",
       "      <td>0</td>\n",
       "      <td>0</td>\n",
       "      <td>93826.63</td>\n",
       "      <td>0</td>\n",
       "      <td>False</td>\n",
       "      <td>False</td>\n",
       "      <td>False</td>\n",
       "    </tr>\n",
       "    <tr>\n",
       "      <th>4</th>\n",
       "      <td>850</td>\n",
       "      <td>43</td>\n",
       "      <td>2</td>\n",
       "      <td>125510.82</td>\n",
       "      <td>1</td>\n",
       "      <td>1</td>\n",
       "      <td>1</td>\n",
       "      <td>79084.10</td>\n",
       "      <td>0</td>\n",
       "      <td>False</td>\n",
       "      <td>True</td>\n",
       "      <td>False</td>\n",
       "    </tr>\n",
       "  </tbody>\n",
       "</table>\n",
       "</div>"
      ],
      "text/plain": [
       "   CreditScore  Age  Tenure    Balance  NumOfProducts  HasCrCard  \\\n",
       "0          619   42       2       0.00              1          1   \n",
       "1          608   41       1   83807.86              1          0   \n",
       "2          502   42       8  159660.80              3          1   \n",
       "3          699   39       1       0.00              2          0   \n",
       "4          850   43       2  125510.82              1          1   \n",
       "\n",
       "   IsActiveMember  EstimatedSalary  Exited  Geography_Germany  \\\n",
       "0               1        101348.88       1              False   \n",
       "1               1        112542.58       0              False   \n",
       "2               0        113931.57       1              False   \n",
       "3               0         93826.63       0              False   \n",
       "4               1         79084.10       0              False   \n",
       "\n",
       "   Geography_Spain  Gender_Male  \n",
       "0            False        False  \n",
       "1             True        False  \n",
       "2            False        False  \n",
       "3            False        False  \n",
       "4             True        False  "
      ]
     },
     "execution_count": 12,
     "metadata": {},
     "output_type": "execute_result"
    }
   ],
   "source": [
    "df.head()"
   ]
  },
  {
   "cell_type": "code",
   "execution_count": 13,
   "metadata": {},
   "outputs": [],
   "source": [
    "#Initializing the X & Y\n",
    "\n",
    "X=df.drop(columns=['Exited'])\n",
    "Y=df['Exited'].values\n",
    "X_train,X_test,Y_train,Y_test=train_test_split(X,Y,test_size=0.2,random_state=0)\n",
    "\n",
    "sc=StandardScaler()\n",
    "X_train=sc.fit_transform(X_train)\n",
    "X_test=sc.transform(X_test)"
   ]
  },
  {
   "cell_type": "code",
   "execution_count": 26,
   "metadata": {},
   "outputs": [],
   "source": [
    "# Build the Model\n",
    "\n",
    "model=keras.Sequential([\n",
    "    layers.Dense(11,activation='sigmoid',input_dim=11),\n",
    "    layers.Dense(11,activation='sigmoid'),\n",
    "    layers.Dense(1,activation='sigmoid'),\n",
    "])\n",
    "\n",
    "\n",
    "\n",
    "#model.summary()\n",
    "\n"
   ]
  },
  {
   "cell_type": "code",
   "execution_count": 27,
   "metadata": {},
   "outputs": [
    {
     "name": "stdout",
     "output_type": "stream",
     "text": [
      "Model: \"sequential_3\"\n",
      "_________________________________________________________________\n",
      " Layer (type)                Output Shape              Param #   \n",
      "=================================================================\n",
      " dense_9 (Dense)             (None, 11)                132       \n",
      "                                                                 \n",
      " dense_10 (Dense)            (None, 11)                132       \n",
      "                                                                 \n",
      " dense_11 (Dense)            (None, 1)                 12        \n",
      "                                                                 \n",
      "=================================================================\n",
      "Total params: 276\n",
      "Trainable params: 276\n",
      "Non-trainable params: 0\n",
      "_________________________________________________________________\n"
     ]
    }
   ],
   "source": [
    "model.summary()"
   ]
  },
  {
   "cell_type": "code",
   "execution_count": 28,
   "metadata": {},
   "outputs": [],
   "source": [
    "model.compile(optimizer='adam',loss='binary_crossentropy',metrics=['accuracy'])"
   ]
  },
  {
   "cell_type": "code",
   "execution_count": 29,
   "metadata": {},
   "outputs": [
    {
     "name": "stdout",
     "output_type": "stream",
     "text": [
      "Epoch 1/100\n",
      "128/128 [==============================] - 3s 16ms/step - loss: 0.6081 - accuracy: 0.6959 - val_loss: 0.5212 - val_accuracy: 0.7969\n",
      "Epoch 2/100\n",
      "128/128 [==============================] - 1s 9ms/step - loss: 0.5036 - accuracy: 0.7958 - val_loss: 0.4934 - val_accuracy: 0.7969\n",
      "Epoch 3/100\n",
      "128/128 [==============================] - 1s 4ms/step - loss: 0.4895 - accuracy: 0.7958 - val_loss: 0.4843 - val_accuracy: 0.7969\n",
      "Epoch 4/100\n",
      "128/128 [==============================] - 1s 5ms/step - loss: 0.4801 - accuracy: 0.7958 - val_loss: 0.4748 - val_accuracy: 0.7969\n",
      "Epoch 5/100\n",
      "128/128 [==============================] - 1s 5ms/step - loss: 0.4696 - accuracy: 0.7958 - val_loss: 0.4648 - val_accuracy: 0.7969\n",
      "Epoch 6/100\n",
      "128/128 [==============================] - 1s 4ms/step - loss: 0.4586 - accuracy: 0.7958 - val_loss: 0.4546 - val_accuracy: 0.7969\n",
      "Epoch 7/100\n",
      "128/128 [==============================] - 1s 4ms/step - loss: 0.4477 - accuracy: 0.7958 - val_loss: 0.4456 - val_accuracy: 0.7969\n",
      "Epoch 8/100\n",
      "128/128 [==============================] - 1s 5ms/step - loss: 0.4387 - accuracy: 0.7958 - val_loss: 0.4387 - val_accuracy: 0.7969\n",
      "Epoch 9/100\n",
      "128/128 [==============================] - 0s 3ms/step - loss: 0.4319 - accuracy: 0.7983 - val_loss: 0.4342 - val_accuracy: 0.8019\n",
      "Epoch 10/100\n",
      "128/128 [==============================] - 1s 5ms/step - loss: 0.4275 - accuracy: 0.8080 - val_loss: 0.4317 - val_accuracy: 0.8131\n",
      "Epoch 11/100\n",
      "128/128 [==============================] - 1s 4ms/step - loss: 0.4246 - accuracy: 0.8161 - val_loss: 0.4298 - val_accuracy: 0.8144\n",
      "Epoch 12/100\n",
      "128/128 [==============================] - 1s 4ms/step - loss: 0.4230 - accuracy: 0.8180 - val_loss: 0.4286 - val_accuracy: 0.8138\n",
      "Epoch 13/100\n",
      "128/128 [==============================] - 0s 4ms/step - loss: 0.4215 - accuracy: 0.8203 - val_loss: 0.4275 - val_accuracy: 0.8144\n",
      "Epoch 14/100\n",
      "128/128 [==============================] - 0s 4ms/step - loss: 0.4205 - accuracy: 0.8203 - val_loss: 0.4266 - val_accuracy: 0.8175\n",
      "Epoch 15/100\n",
      "128/128 [==============================] - 1s 10ms/step - loss: 0.4195 - accuracy: 0.8213 - val_loss: 0.4256 - val_accuracy: 0.8163\n",
      "Epoch 16/100\n",
      "128/128 [==============================] - 1s 5ms/step - loss: 0.4185 - accuracy: 0.8228 - val_loss: 0.4246 - val_accuracy: 0.8206\n",
      "Epoch 17/100\n",
      "128/128 [==============================] - 1s 6ms/step - loss: 0.4180 - accuracy: 0.8236 - val_loss: 0.4236 - val_accuracy: 0.8206\n",
      "Epoch 18/100\n",
      "128/128 [==============================] - 3s 20ms/step - loss: 0.4168 - accuracy: 0.8231 - val_loss: 0.4227 - val_accuracy: 0.8213\n",
      "Epoch 19/100\n",
      "128/128 [==============================] - 2s 18ms/step - loss: 0.4160 - accuracy: 0.8234 - val_loss: 0.4217 - val_accuracy: 0.8219\n",
      "Epoch 20/100\n",
      "128/128 [==============================] - 1s 6ms/step - loss: 0.4151 - accuracy: 0.8256 - val_loss: 0.4209 - val_accuracy: 0.8225\n",
      "Epoch 21/100\n",
      "128/128 [==============================] - 1s 5ms/step - loss: 0.4144 - accuracy: 0.8270 - val_loss: 0.4198 - val_accuracy: 0.8281\n",
      "Epoch 22/100\n",
      "128/128 [==============================] - 1s 5ms/step - loss: 0.4132 - accuracy: 0.8286 - val_loss: 0.4188 - val_accuracy: 0.8244\n",
      "Epoch 23/100\n",
      "128/128 [==============================] - 0s 4ms/step - loss: 0.4126 - accuracy: 0.8294 - val_loss: 0.4174 - val_accuracy: 0.8250\n",
      "Epoch 24/100\n",
      "128/128 [==============================] - 1s 6ms/step - loss: 0.4115 - accuracy: 0.8309 - val_loss: 0.4163 - val_accuracy: 0.8244\n",
      "Epoch 25/100\n",
      "128/128 [==============================] - 0s 3ms/step - loss: 0.4106 - accuracy: 0.8320 - val_loss: 0.4151 - val_accuracy: 0.8275\n",
      "Epoch 26/100\n",
      "128/128 [==============================] - 1s 5ms/step - loss: 0.4094 - accuracy: 0.8311 - val_loss: 0.4139 - val_accuracy: 0.8275\n",
      "Epoch 27/100\n",
      "128/128 [==============================] - 0s 4ms/step - loss: 0.4083 - accuracy: 0.8317 - val_loss: 0.4124 - val_accuracy: 0.8294\n",
      "Epoch 28/100\n",
      "128/128 [==============================] - 1s 4ms/step - loss: 0.4068 - accuracy: 0.8339 - val_loss: 0.4109 - val_accuracy: 0.8306\n",
      "Epoch 29/100\n",
      "128/128 [==============================] - 0s 4ms/step - loss: 0.4051 - accuracy: 0.8339 - val_loss: 0.4092 - val_accuracy: 0.8313\n",
      "Epoch 30/100\n",
      "128/128 [==============================] - 1s 6ms/step - loss: 0.4035 - accuracy: 0.8344 - val_loss: 0.4075 - val_accuracy: 0.8344\n",
      "Epoch 31/100\n",
      "128/128 [==============================] - 1s 4ms/step - loss: 0.4016 - accuracy: 0.8333 - val_loss: 0.4057 - val_accuracy: 0.8356\n",
      "Epoch 32/100\n",
      "128/128 [==============================] - 1s 4ms/step - loss: 0.4000 - accuracy: 0.8348 - val_loss: 0.4039 - val_accuracy: 0.8363\n",
      "Epoch 33/100\n",
      "128/128 [==============================] - 1s 4ms/step - loss: 0.3979 - accuracy: 0.8350 - val_loss: 0.4020 - val_accuracy: 0.8369\n",
      "Epoch 34/100\n",
      "128/128 [==============================] - 1s 4ms/step - loss: 0.3961 - accuracy: 0.8363 - val_loss: 0.4001 - val_accuracy: 0.8375\n",
      "Epoch 35/100\n",
      "128/128 [==============================] - 1s 4ms/step - loss: 0.3941 - accuracy: 0.8364 - val_loss: 0.3984 - val_accuracy: 0.8388\n",
      "Epoch 36/100\n",
      "128/128 [==============================] - 1s 4ms/step - loss: 0.3920 - accuracy: 0.8373 - val_loss: 0.3967 - val_accuracy: 0.8388\n",
      "Epoch 37/100\n",
      "128/128 [==============================] - 0s 4ms/step - loss: 0.3902 - accuracy: 0.8378 - val_loss: 0.3948 - val_accuracy: 0.8394\n",
      "Epoch 38/100\n",
      "128/128 [==============================] - 0s 4ms/step - loss: 0.3881 - accuracy: 0.8395 - val_loss: 0.3930 - val_accuracy: 0.8400\n",
      "Epoch 39/100\n",
      "128/128 [==============================] - 1s 4ms/step - loss: 0.3864 - accuracy: 0.8392 - val_loss: 0.3915 - val_accuracy: 0.8406\n",
      "Epoch 40/100\n",
      "128/128 [==============================] - 0s 4ms/step - loss: 0.3844 - accuracy: 0.8411 - val_loss: 0.3899 - val_accuracy: 0.8413\n",
      "Epoch 41/100\n",
      "128/128 [==============================] - 1s 4ms/step - loss: 0.3826 - accuracy: 0.8427 - val_loss: 0.3884 - val_accuracy: 0.8431\n",
      "Epoch 42/100\n",
      "128/128 [==============================] - 0s 4ms/step - loss: 0.3808 - accuracy: 0.8438 - val_loss: 0.3869 - val_accuracy: 0.8438\n",
      "Epoch 43/100\n",
      "128/128 [==============================] - 1s 4ms/step - loss: 0.3792 - accuracy: 0.8442 - val_loss: 0.3856 - val_accuracy: 0.8431\n",
      "Epoch 44/100\n",
      "128/128 [==============================] - 0s 4ms/step - loss: 0.3775 - accuracy: 0.8448 - val_loss: 0.3843 - val_accuracy: 0.8450\n",
      "Epoch 45/100\n",
      "128/128 [==============================] - 1s 4ms/step - loss: 0.3759 - accuracy: 0.8472 - val_loss: 0.3833 - val_accuracy: 0.8444\n",
      "Epoch 46/100\n",
      "128/128 [==============================] - 0s 4ms/step - loss: 0.3742 - accuracy: 0.8483 - val_loss: 0.3822 - val_accuracy: 0.8444\n",
      "Epoch 47/100\n",
      "128/128 [==============================] - 1s 7ms/step - loss: 0.3729 - accuracy: 0.8466 - val_loss: 0.3809 - val_accuracy: 0.8444\n",
      "Epoch 48/100\n",
      "128/128 [==============================] - 0s 4ms/step - loss: 0.3714 - accuracy: 0.8495 - val_loss: 0.3802 - val_accuracy: 0.8462\n",
      "Epoch 49/100\n",
      "128/128 [==============================] - 1s 4ms/step - loss: 0.3700 - accuracy: 0.8491 - val_loss: 0.3794 - val_accuracy: 0.8456\n",
      "Epoch 50/100\n",
      "128/128 [==============================] - 1s 4ms/step - loss: 0.3690 - accuracy: 0.8500 - val_loss: 0.3780 - val_accuracy: 0.8462\n",
      "Epoch 51/100\n",
      "128/128 [==============================] - 1s 4ms/step - loss: 0.3674 - accuracy: 0.8511 - val_loss: 0.3772 - val_accuracy: 0.8462\n",
      "Epoch 52/100\n",
      "128/128 [==============================] - 1s 4ms/step - loss: 0.3663 - accuracy: 0.8511 - val_loss: 0.3765 - val_accuracy: 0.8456\n",
      "Epoch 53/100\n",
      "128/128 [==============================] - 0s 4ms/step - loss: 0.3651 - accuracy: 0.8519 - val_loss: 0.3758 - val_accuracy: 0.8469\n",
      "Epoch 54/100\n",
      "128/128 [==============================] - 1s 4ms/step - loss: 0.3641 - accuracy: 0.8520 - val_loss: 0.3749 - val_accuracy: 0.8487\n",
      "Epoch 55/100\n",
      "128/128 [==============================] - 0s 4ms/step - loss: 0.3638 - accuracy: 0.8511 - val_loss: 0.3745 - val_accuracy: 0.8494\n",
      "Epoch 56/100\n",
      "128/128 [==============================] - 1s 4ms/step - loss: 0.3619 - accuracy: 0.8533 - val_loss: 0.3747 - val_accuracy: 0.8469\n",
      "Epoch 57/100\n",
      "128/128 [==============================] - 0s 4ms/step - loss: 0.3611 - accuracy: 0.8536 - val_loss: 0.3729 - val_accuracy: 0.8506\n",
      "Epoch 58/100\n",
      "128/128 [==============================] - 1s 4ms/step - loss: 0.3600 - accuracy: 0.8550 - val_loss: 0.3728 - val_accuracy: 0.8512\n",
      "Epoch 59/100\n",
      "128/128 [==============================] - 0s 4ms/step - loss: 0.3591 - accuracy: 0.8537 - val_loss: 0.3720 - val_accuracy: 0.8512\n",
      "Epoch 60/100\n",
      "128/128 [==============================] - 1s 4ms/step - loss: 0.3581 - accuracy: 0.8544 - val_loss: 0.3715 - val_accuracy: 0.8487\n",
      "Epoch 61/100\n",
      "128/128 [==============================] - 0s 4ms/step - loss: 0.3575 - accuracy: 0.8542 - val_loss: 0.3710 - val_accuracy: 0.8500\n",
      "Epoch 62/100\n",
      "128/128 [==============================] - 1s 4ms/step - loss: 0.3568 - accuracy: 0.8572 - val_loss: 0.3708 - val_accuracy: 0.8487\n",
      "Epoch 63/100\n",
      "128/128 [==============================] - 1s 4ms/step - loss: 0.3558 - accuracy: 0.8562 - val_loss: 0.3701 - val_accuracy: 0.8487\n",
      "Epoch 64/100\n",
      "128/128 [==============================] - 1s 4ms/step - loss: 0.3551 - accuracy: 0.8559 - val_loss: 0.3699 - val_accuracy: 0.8500\n",
      "Epoch 65/100\n",
      "128/128 [==============================] - 0s 4ms/step - loss: 0.3542 - accuracy: 0.8577 - val_loss: 0.3699 - val_accuracy: 0.8494\n",
      "Epoch 66/100\n",
      "128/128 [==============================] - 1s 4ms/step - loss: 0.3536 - accuracy: 0.8573 - val_loss: 0.3690 - val_accuracy: 0.8494\n",
      "Epoch 67/100\n",
      "128/128 [==============================] - 1s 6ms/step - loss: 0.3532 - accuracy: 0.8581 - val_loss: 0.3685 - val_accuracy: 0.8481\n",
      "Epoch 68/100\n",
      "128/128 [==============================] - 1s 5ms/step - loss: 0.3521 - accuracy: 0.8581 - val_loss: 0.3682 - val_accuracy: 0.8500\n",
      "Epoch 69/100\n",
      "128/128 [==============================] - 1s 5ms/step - loss: 0.3514 - accuracy: 0.8584 - val_loss: 0.3677 - val_accuracy: 0.8487\n",
      "Epoch 70/100\n",
      "128/128 [==============================] - 1s 5ms/step - loss: 0.3509 - accuracy: 0.8589 - val_loss: 0.3674 - val_accuracy: 0.8475\n",
      "Epoch 71/100\n",
      "128/128 [==============================] - 1s 5ms/step - loss: 0.3502 - accuracy: 0.8597 - val_loss: 0.3674 - val_accuracy: 0.8487\n",
      "Epoch 72/100\n",
      "128/128 [==============================] - 1s 5ms/step - loss: 0.3498 - accuracy: 0.8589 - val_loss: 0.3666 - val_accuracy: 0.8506\n",
      "Epoch 73/100\n",
      "128/128 [==============================] - 1s 4ms/step - loss: 0.3491 - accuracy: 0.8602 - val_loss: 0.3661 - val_accuracy: 0.8487\n",
      "Epoch 74/100\n",
      "128/128 [==============================] - 1s 5ms/step - loss: 0.3482 - accuracy: 0.8591 - val_loss: 0.3660 - val_accuracy: 0.8494\n",
      "Epoch 75/100\n",
      "128/128 [==============================] - 2s 12ms/step - loss: 0.3480 - accuracy: 0.8592 - val_loss: 0.3655 - val_accuracy: 0.8512\n",
      "Epoch 76/100\n",
      "128/128 [==============================] - 1s 7ms/step - loss: 0.3473 - accuracy: 0.8606 - val_loss: 0.3656 - val_accuracy: 0.8506\n",
      "Epoch 77/100\n",
      "128/128 [==============================] - 1s 7ms/step - loss: 0.3468 - accuracy: 0.8614 - val_loss: 0.3655 - val_accuracy: 0.8494\n",
      "Epoch 78/100\n",
      "128/128 [==============================] - 1s 8ms/step - loss: 0.3462 - accuracy: 0.8602 - val_loss: 0.3646 - val_accuracy: 0.8500\n",
      "Epoch 79/100\n",
      "128/128 [==============================] - 1s 5ms/step - loss: 0.3456 - accuracy: 0.8606 - val_loss: 0.3645 - val_accuracy: 0.8519\n",
      "Epoch 80/100\n",
      "128/128 [==============================] - 1s 5ms/step - loss: 0.3451 - accuracy: 0.8603 - val_loss: 0.3649 - val_accuracy: 0.8525\n",
      "Epoch 81/100\n",
      "128/128 [==============================] - 0s 4ms/step - loss: 0.3445 - accuracy: 0.8611 - val_loss: 0.3640 - val_accuracy: 0.8512\n",
      "Epoch 82/100\n",
      "128/128 [==============================] - 1s 7ms/step - loss: 0.3440 - accuracy: 0.8628 - val_loss: 0.3639 - val_accuracy: 0.8506\n",
      "Epoch 83/100\n",
      "128/128 [==============================] - 1s 10ms/step - loss: 0.3435 - accuracy: 0.8605 - val_loss: 0.3635 - val_accuracy: 0.8506\n",
      "Epoch 84/100\n",
      "128/128 [==============================] - 1s 6ms/step - loss: 0.3431 - accuracy: 0.8620 - val_loss: 0.3633 - val_accuracy: 0.8519\n",
      "Epoch 85/100\n",
      "128/128 [==============================] - 1s 7ms/step - loss: 0.3425 - accuracy: 0.8619 - val_loss: 0.3635 - val_accuracy: 0.8506\n",
      "Epoch 86/100\n",
      "128/128 [==============================] - 1s 4ms/step - loss: 0.3426 - accuracy: 0.8616 - val_loss: 0.3630 - val_accuracy: 0.8512\n",
      "Epoch 87/100\n",
      "128/128 [==============================] - 1s 7ms/step - loss: 0.3421 - accuracy: 0.8620 - val_loss: 0.3633 - val_accuracy: 0.8481\n",
      "Epoch 88/100\n",
      "128/128 [==============================] - 0s 4ms/step - loss: 0.3409 - accuracy: 0.8644 - val_loss: 0.3650 - val_accuracy: 0.8506\n",
      "Epoch 89/100\n",
      "128/128 [==============================] - 0s 4ms/step - loss: 0.3409 - accuracy: 0.8612 - val_loss: 0.3621 - val_accuracy: 0.8531\n",
      "Epoch 90/100\n",
      "128/128 [==============================] - 1s 4ms/step - loss: 0.3410 - accuracy: 0.8606 - val_loss: 0.3618 - val_accuracy: 0.8550\n",
      "Epoch 91/100\n",
      "128/128 [==============================] - 1s 4ms/step - loss: 0.3403 - accuracy: 0.8620 - val_loss: 0.3618 - val_accuracy: 0.8544\n",
      "Epoch 92/100\n",
      "128/128 [==============================] - 0s 4ms/step - loss: 0.3395 - accuracy: 0.8606 - val_loss: 0.3614 - val_accuracy: 0.8544\n",
      "Epoch 93/100\n",
      "128/128 [==============================] - 1s 4ms/step - loss: 0.3394 - accuracy: 0.8641 - val_loss: 0.3621 - val_accuracy: 0.8481\n",
      "Epoch 94/100\n",
      "128/128 [==============================] - 1s 4ms/step - loss: 0.3388 - accuracy: 0.8636 - val_loss: 0.3611 - val_accuracy: 0.8556\n",
      "Epoch 95/100\n",
      "128/128 [==============================] - 0s 4ms/step - loss: 0.3382 - accuracy: 0.8620 - val_loss: 0.3612 - val_accuracy: 0.8556\n",
      "Epoch 96/100\n",
      "128/128 [==============================] - 1s 4ms/step - loss: 0.3380 - accuracy: 0.8634 - val_loss: 0.3606 - val_accuracy: 0.8544\n",
      "Epoch 97/100\n",
      "128/128 [==============================] - 0s 4ms/step - loss: 0.3381 - accuracy: 0.8625 - val_loss: 0.3605 - val_accuracy: 0.8544\n",
      "Epoch 98/100\n",
      "128/128 [==============================] - 1s 4ms/step - loss: 0.3370 - accuracy: 0.8642 - val_loss: 0.3621 - val_accuracy: 0.8519\n",
      "Epoch 99/100\n",
      "128/128 [==============================] - 0s 4ms/step - loss: 0.3374 - accuracy: 0.8633 - val_loss: 0.3603 - val_accuracy: 0.8556\n",
      "Epoch 100/100\n",
      "128/128 [==============================] - 1s 6ms/step - loss: 0.3367 - accuracy: 0.8641 - val_loss: 0.3604 - val_accuracy: 0.8550\n"
     ]
    }
   ],
   "source": [
    "history=model.fit(X_train,Y_train,batch_size=50,epochs=100,verbose=1,validation_split=0.2)"
   ]
  },
  {
   "cell_type": "code",
   "execution_count": 30,
   "metadata": {},
   "outputs": [
    {
     "name": "stdout",
     "output_type": "stream",
     "text": [
      "63/63 [==============================] - 0s 2ms/step\n"
     ]
    },
    {
     "data": {
      "text/plain": [
       "array([[0.3178845 ],\n",
       "       [0.34946993],\n",
       "       [0.165997  ],\n",
       "       ...,\n",
       "       [0.11589444],\n",
       "       [0.14594838],\n",
       "       [0.31520447]], dtype=float32)"
      ]
     },
     "execution_count": 30,
     "metadata": {},
     "output_type": "execute_result"
    }
   ],
   "source": [
    "y_pred=model.predict(X_test)\n",
    "y_pred"
   ]
  },
  {
   "cell_type": "code",
   "execution_count": 31,
   "metadata": {},
   "outputs": [],
   "source": [
    "y_pred = y_pred.argmax(axis=-1)"
   ]
  },
  {
   "cell_type": "code",
   "execution_count": 33,
   "metadata": {},
   "outputs": [
    {
     "data": {
      "text/plain": [
       "0.7975"
      ]
     },
     "execution_count": 33,
     "metadata": {},
     "output_type": "execute_result"
    }
   ],
   "source": [
    "from sklearn.metrics import accuracy_score\n",
    "accuracy_score(Y_test,y_pred)"
   ]
  },
  {
   "cell_type": "code",
   "execution_count": 34,
   "metadata": {},
   "outputs": [
    {
     "data": {
      "image/png": "[encoded data removed]",
      "text/plain": [
       "<Figure size 640x480 with 1 Axes>"
      ]
     },
     "metadata": {},
     "output_type": "display_data"
    }
   ],
   "source": [
    "plt.plot(history.history['loss'])\n",
    "plt.plot(history.history['val_loss'])\n",
    "plt.title('model loss')\n",
    "plt.ylabel('loss')\n",
    "plt.xlabel('epoch')\n",
    "plt.legend(['train', 'validation'], loc='upper left')\n",
    "plt.show()"
   ]
  },
  {
   "cell_type": "code",
   "execution_count": 36,
   "metadata": {},
   "outputs": [
    {
     "name": "stdout",
     "output_type": "stream",
     "text": [
      "12/63 [====>.........................] - ETA: 0s - loss: 0.3165 - accuracy: 0.8698 "
     ]
    },
    {
     "name": "stdout",
     "output_type": "stream",
     "text": [
      "63/63 [==============================] - 1s 3ms/step - loss: 0.3372 - accuracy: 0.8620\n",
      "Test loss: [0.3372202217578888, 0.8619999885559082]\n"
     ]
    }
   ],
   "source": [
    "loss = model.evaluate(X_test, Y_test)\n",
    "print(f'Test loss: {loss}')"
   ]
  },
  {
   "cell_type": "code",
   "execution_count": 37,
   "metadata": {},
   "outputs": [
    {
     "data": {
      "text/plain": [
       "[<matplotlib.lines.Line2D at 0x1589ef869b0>]"
      ]
     },
     "execution_count": 37,
     "metadata": {},
     "output_type": "execute_result"
    },
    {
     "data": {
      "image/png": "[encoded data removed]",
      "text/plain": [
       "<Figure size 640x480 with 1 Axes>"
      ]
     },
     "metadata": {},
     "output_type": "display_data"
    }
   ],
   "source": [
    "plt.plot(history.history['accuracy'])\n",
    "plt.plot(history.history['val_accuracy'])"
   ]
  }
 ],
 "metadata": {
  "kernelspec": {
   "display_name": "TF",
   "language": "python",
   "name": "python3"
  },
  "language_info": {
   "codemirror_mode": {
    "name": "ipython",
    "version": 3
   },
   "file_extension": ".py",
   "mimetype": "text/x-python",
   "name": "python",
   "nbconvert_exporter": "python",
   "pygments_lexer": "ipython3",
   "version": "3.10.13"
  }
 },
 "nbformat": 4,
 "nbformat_minor": 2
}
