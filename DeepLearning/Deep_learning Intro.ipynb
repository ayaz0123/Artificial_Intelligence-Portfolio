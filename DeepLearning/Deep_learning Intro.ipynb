{
 "cells": [
  {
   "cell_type": "code",
   "execution_count": 1,
   "metadata": {},
   "outputs": [],
   "source": [
    "import tensorflow as tf\n",
    "from tensorflow import keras\n",
    "from keras import layers"
   ]
  },
  {
   "cell_type": "code",
   "execution_count": 5,
   "metadata": {},
   "outputs": [],
   "source": [
    "import pandas as pd\n",
    "import numpy as np\n",
    "import matplotlib.pyplot as plt\n",
    "import seaborn as sns\n",
    "\n",
    "from sklearn.model_selection import train_test_split\n",
    "from sklearn.preprocessing import StandardScaler,MinMaxScaler,LabelEncoder"
   ]
  },
  {
   "cell_type": "code",
   "execution_count": 17,
   "metadata": {},
   "outputs": [
    {
     "name": "stdout",
     "output_type": "stream",
     "text": [
      "Epoch 1/20\n",
      "7/7 [==============================] - 1s 66ms/step - loss: 9.4162 - mae: 2.7336 - val_loss: 5.9285 - val_mae: 2.1926\n",
      "Epoch 2/20\n",
      "7/7 [==============================] - 0s 13ms/step - loss: 8.5085 - mae: 2.5625 - val_loss: 5.1780 - val_mae: 2.0202\n",
      "Epoch 3/20\n",
      "7/7 [==============================] - 0s 13ms/step - loss: 7.6232 - mae: 2.3873 - val_loss: 4.4553 - val_mae: 1.8408\n",
      "Epoch 4/20\n",
      "7/7 [==============================] - 0s 13ms/step - loss: 6.7313 - mae: 2.2023 - val_loss: 3.7505 - val_mae: 1.6460\n",
      "Epoch 5/20\n",
      "7/7 [==============================] - 0s 12ms/step - loss: 5.8814 - mae: 2.0055 - val_loss: 3.0762 - val_mae: 1.4379\n",
      "Epoch 6/20\n",
      "7/7 [==============================] - 0s 13ms/step - loss: 5.0431 - mae: 1.8081 - val_loss: 2.4782 - val_mae: 1.2369\n",
      "Epoch 7/20\n",
      "7/7 [==============================] - 0s 15ms/step - loss: 4.2589 - mae: 1.6038 - val_loss: 1.9293 - val_mae: 1.0693\n",
      "Epoch 8/20\n",
      "7/7 [==============================] - 0s 12ms/step - loss: 3.5250 - mae: 1.4094 - val_loss: 1.4713 - val_mae: 0.9539\n",
      "Epoch 9/20\n",
      "7/7 [==============================] - 0s 12ms/step - loss: 2.9066 - mae: 1.2352 - val_loss: 1.1425 - val_mae: 0.8745\n",
      "Epoch 10/20\n",
      "7/7 [==============================] - 0s 13ms/step - loss: 2.3905 - mae: 1.1176 - val_loss: 0.9717 - val_mae: 0.8234\n",
      "Epoch 11/20\n",
      "7/7 [==============================] - 0s 13ms/step - loss: 2.0764 - mae: 1.0530 - val_loss: 0.9365 - val_mae: 0.8199\n",
      "Epoch 12/20\n",
      "7/7 [==============================] - 0s 33ms/step - loss: 1.8718 - mae: 1.0278 - val_loss: 1.0057 - val_mae: 0.8571\n",
      "Epoch 13/20\n",
      "7/7 [==============================] - 0s 12ms/step - loss: 1.7589 - mae: 1.0235 - val_loss: 1.0747 - val_mae: 0.8773\n",
      "Epoch 14/20\n",
      "7/7 [==============================] - 0s 13ms/step - loss: 1.7145 - mae: 1.0270 - val_loss: 1.1157 - val_mae: 0.8892\n",
      "Epoch 15/20\n",
      "7/7 [==============================] - 0s 13ms/step - loss: 1.6715 - mae: 1.0155 - val_loss: 1.0755 - val_mae: 0.8721\n",
      "Epoch 16/20\n",
      "7/7 [==============================] - 0s 12ms/step - loss: 1.6242 - mae: 0.9970 - val_loss: 1.0183 - val_mae: 0.8497\n",
      "Epoch 17/20\n",
      "7/7 [==============================] - 0s 12ms/step - loss: 1.5814 - mae: 0.9748 - val_loss: 0.9577 - val_mae: 0.8277\n",
      "Epoch 18/20\n",
      "7/7 [==============================] - 0s 13ms/step - loss: 1.5476 - mae: 0.9565 - val_loss: 0.9190 - val_mae: 0.8141\n",
      "Epoch 19/20\n",
      "7/7 [==============================] - 0s 13ms/step - loss: 1.5203 - mae: 0.9435 - val_loss: 0.9067 - val_mae: 0.8080\n",
      "Epoch 20/20\n",
      "7/7 [==============================] - 0s 14ms/step - loss: 1.4878 - mae: 0.9327 - val_loss: 0.9287 - val_mae: 0.8141\n",
      "2/2 [==============================] - 0s 5ms/step - loss: 0.9287 - mae: 0.8141\n",
      "Test_Loss : [0.92868572473526, 0.8140610456466675]\n"
     ]
    }
   ],
   "source": [
    "#load the tips dataset\n",
    "df = sns.load_dataset(\"Tips\")\n",
    "\n",
    "#prepare the data\n",
    "le=LabelEncoder()\n",
    "df[\"sex\"]=le.fit_transform(df[\"sex\"])\n",
    "df[\"smoker\"]=le.fit_transform(df[\"smoker\"])\n",
    "df[\"day\"]=le.fit_transform(df[\"day\"])\n",
    "df[\"time\"]=le.fit_transform(df[\"time\"])\n",
    "\n",
    "\n",
    "X=df.drop(\"tip\",axis=1)\n",
    "y=df[\"tip\"]\n",
    "\n",
    "#scaled the data\n",
    "scaled=MinMaxScaler()\n",
    "X_Scaled=scaled.fit_transform(X)\n",
    "\n",
    "#split the dataset into train and test\n",
    "X_train,X_test,y_train,y_test = train_test_split(X_Scaled,y,test_size=0.2,random_state=42)\n",
    "\n",
    "#create the model\n",
    "model = keras.Sequential([\n",
    "    layers.Dense(32,activation=\"relu\",input_shape=[X_train.shape[1]]), #input layer\n",
    "    layers.Dense(18,activation=\"relu\"), #hidden layer\n",
    "    layers.Dense(1), #out-put layer\n",
    "])\n",
    "\n",
    "#compile the model\n",
    "model.compile(loss=\"mse\",optimizer=\"adam\",metrics=[\"mae\"])\n",
    "\n",
    "#fit the model\n",
    "model.fit(X_train,y_train,epochs=20,validation_data=(X_test,y_test),batch_size=32,verbose=1)\n",
    "\n",
    "#evaluate the model\n",
    "\n",
    "loss=model.evaluate(X_test,y_test)\n",
    "print( \"Test_Loss :\" , loss)\n",
    "\n",
    "#predict the model\n",
    "\n",
    "# y_pred = model.predict(X_test)\n",
    "\n"
   ]
  },
  {
   "cell_type": "code",
   "execution_count": null,
   "metadata": {},
   "outputs": [],
   "source": []
  }
 ],
 "metadata": {
  "kernelspec": {
   "display_name": "TS",
   "language": "python",
   "name": "python3"
  },
  "language_info": {
   "codemirror_mode": {
    "name": "ipython",
    "version": 3
   },
   "file_extension": ".py",
   "mimetype": "text/x-python",
   "name": "python",
   "nbconvert_exporter": "python",
   "pygments_lexer": "ipython3",
   "version": "3.10.13"
  }
 },
 "nbformat": 4,
 "nbformat_minor": 2
}
