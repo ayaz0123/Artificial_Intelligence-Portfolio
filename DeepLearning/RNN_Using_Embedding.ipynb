{
  "nbformat": 4,
  "nbformat_minor": 0,
  "metadata": {
    "colab": {
      "provenance": []
    },
    "kernelspec": {
      "name": "python3",
      "display_name": "Python 3"
    },
    "language_info": {
      "name": "python"
    }
  },
  "cells": [
    {
      "cell_type": "code",
      "execution_count": 1,
      "metadata": {
        "id": "l2S6vWEoC6sT"
      },
      "outputs": [],
      "source": [
        "import numpy as np\n",
        "\n",
        "docs = ['go pakistan',\n",
        "\t\t'pakistan pakistan',\n",
        "\t\t'hip hip hurray',\n",
        "\t\t'jeetega bhai jeetega pakistan jeetega',\n",
        "\t\t'pakistan tu hamesha salamat rehay',\n",
        "\t\t'babar babar',\n",
        "\t\t'afredi afredi',\n",
        "\t\t'rizwan rizwan',\n",
        "\t\t'pakistan zindabad',\n",
        "\t\t'inquilab zindabad']"
      ]
    },
    {
      "cell_type": "code",
      "source": [
        "from keras.preprocessing.text import Tokenizer\n",
        "\n",
        "tokenizer=Tokenizer()\n"
      ],
      "metadata": {
        "id": "qz2akpv2DKca"
      },
      "execution_count": 2,
      "outputs": []
    },
    {
      "cell_type": "code",
      "source": [
        "tokenizer.fit_on_texts(docs)"
      ],
      "metadata": {
        "id": "HJqawurPDmzL"
      },
      "execution_count": 3,
      "outputs": []
    },
    {
      "cell_type": "code",
      "source": [
        "len(tokenizer.word_index)"
      ],
      "metadata": {
        "colab": {
          "base_uri": "https://localhost:8080/"
        },
        "id": "8t6TOsk4DvR7",
        "outputId": "3fd993fe-8360-4008-d086-c04ed53094a4"
      },
      "execution_count": 5,
      "outputs": [
        {
          "output_type": "execute_result",
          "data": {
            "text/plain": [
              "15"
            ]
          },
          "metadata": {},
          "execution_count": 5
        }
      ]
    },
    {
      "cell_type": "code",
      "source": [
        "sequences=tokenizer.texts_to_sequences(docs)\n",
        "sequences"
      ],
      "metadata": {
        "colab": {
          "base_uri": "https://localhost:8080/"
        },
        "id": "JXdipnYuD40H",
        "outputId": "a3f2fcf9-67e8-4fc2-ae42-3e08e21d50ab"
      },
      "execution_count": 6,
      "outputs": [
        {
          "output_type": "execute_result",
          "data": {
            "text/plain": [
              "[[8, 1],\n",
              " [1, 1],\n",
              " [3, 3, 9],\n",
              " [2, 10, 2, 1, 2],\n",
              " [1, 11, 12, 13, 14],\n",
              " [4, 4],\n",
              " [5, 5],\n",
              " [6, 6],\n",
              " [1, 7],\n",
              " [15, 7]]"
            ]
          },
          "metadata": {},
          "execution_count": 6
        }
      ]
    },
    {
      "cell_type": "code",
      "source": [
        "from keras.utils import pad_sequences\n",
        "\n",
        "sequences=pad_sequences(sequences,padding='post')\n",
        "\n",
        "sequences"
      ],
      "metadata": {
        "colab": {
          "base_uri": "https://localhost:8080/"
        },
        "id": "gNpJ_0TcEe_E",
        "outputId": "8c76ed62-8821-4dfe-8b64-859416646341"
      },
      "execution_count": 7,
      "outputs": [
        {
          "output_type": "execute_result",
          "data": {
            "text/plain": [
              "array([[ 8,  1,  0,  0,  0],\n",
              "       [ 1,  1,  0,  0,  0],\n",
              "       [ 3,  3,  9,  0,  0],\n",
              "       [ 2, 10,  2,  1,  2],\n",
              "       [ 1, 11, 12, 13, 14],\n",
              "       [ 4,  4,  0,  0,  0],\n",
              "       [ 5,  5,  0,  0,  0],\n",
              "       [ 6,  6,  0,  0,  0],\n",
              "       [ 1,  7,  0,  0,  0],\n",
              "       [15,  7,  0,  0,  0]], dtype=int32)"
            ]
          },
          "metadata": {},
          "execution_count": 7
        }
      ]
    },
    {
      "cell_type": "code",
      "source": [
        "from keras import Sequential\n",
        "from keras.layers import Dense,SimpleRNN,Embedding,Flatten\n",
        "\n",
        "model = Sequential()\n",
        "\n",
        "model.add(Embedding(17,output_dim=2,input_length=5))\n",
        "\n",
        "model.summary()\n"
      ],
      "metadata": {
        "colab": {
          "base_uri": "https://localhost:8080/"
        },
        "id": "G7DRso4EE1_C",
        "outputId": "40a5b2ed-e22b-4bb6-f3aa-4d6cce4b0b4b"
      },
      "execution_count": 14,
      "outputs": [
        {
          "output_type": "stream",
          "name": "stdout",
          "text": [
            "Model: \"sequential_1\"\n",
            "_________________________________________________________________\n",
            " Layer (type)                Output Shape              Param #   \n",
            "=================================================================\n",
            " embedding_1 (Embedding)     (None, 5, 2)              34        \n",
            "                                                                 \n",
            "=================================================================\n",
            "Total params: 34 (136.00 Byte)\n",
            "Trainable params: 34 (136.00 Byte)\n",
            "Non-trainable params: 0 (0.00 Byte)\n",
            "_________________________________________________________________\n"
          ]
        }
      ]
    },
    {
      "cell_type": "code",
      "source": [
        "model.compile('adam','accuracy')"
      ],
      "metadata": {
        "id": "0DCV5Lm8F_MV"
      },
      "execution_count": 15,
      "outputs": []
    },
    {
      "cell_type": "code",
      "source": [
        "model.predict(sequences)\n"
      ],
      "metadata": {
        "colab": {
          "base_uri": "https://localhost:8080/"
        },
        "id": "pxEARK_uGCw7",
        "outputId": "6a0190b4-7817-45ab-d73d-842a5ba26533"
      },
      "execution_count": 16,
      "outputs": [
        {
          "output_type": "stream",
          "name": "stdout",
          "text": [
            "1/1 [==============================] - 50s 50s/step\n"
          ]
        },
        {
          "output_type": "execute_result",
          "data": {
            "text/plain": [
              "array([[[ 0.03086442, -0.04897295],\n",
              "        [ 0.02207979, -0.02787979],\n",
              "        [-0.04704544,  0.02703127],\n",
              "        [-0.04704544,  0.02703127],\n",
              "        [-0.04704544,  0.02703127]],\n",
              "\n",
              "       [[ 0.02207979, -0.02787979],\n",
              "        [ 0.02207979, -0.02787979],\n",
              "        [-0.04704544,  0.02703127],\n",
              "        [-0.04704544,  0.02703127],\n",
              "        [-0.04704544,  0.02703127]],\n",
              "\n",
              "       [[ 0.03853095, -0.02681686],\n",
              "        [ 0.03853095, -0.02681686],\n",
              "        [-0.04066398, -0.03829963],\n",
              "        [-0.04704544,  0.02703127],\n",
              "        [-0.04704544,  0.02703127]],\n",
              "\n",
              "       [[ 0.00320332, -0.03661703],\n",
              "        [-0.04765706,  0.04208023],\n",
              "        [ 0.00320332, -0.03661703],\n",
              "        [ 0.02207979, -0.02787979],\n",
              "        [ 0.00320332, -0.03661703]],\n",
              "\n",
              "       [[ 0.02207979, -0.02787979],\n",
              "        [-0.03117422, -0.03542843],\n",
              "        [-0.00996944,  0.02553581],\n",
              "        [-0.00072873,  0.001903  ],\n",
              "        [ 0.00681437, -0.0147153 ]],\n",
              "\n",
              "       [[-0.04622627, -0.03514719],\n",
              "        [-0.04622627, -0.03514719],\n",
              "        [-0.04704544,  0.02703127],\n",
              "        [-0.04704544,  0.02703127],\n",
              "        [-0.04704544,  0.02703127]],\n",
              "\n",
              "       [[-0.04473839,  0.02774164],\n",
              "        [-0.04473839,  0.02774164],\n",
              "        [-0.04704544,  0.02703127],\n",
              "        [-0.04704544,  0.02703127],\n",
              "        [-0.04704544,  0.02703127]],\n",
              "\n",
              "       [[ 0.03759161,  0.04895909],\n",
              "        [ 0.03759161,  0.04895909],\n",
              "        [-0.04704544,  0.02703127],\n",
              "        [-0.04704544,  0.02703127],\n",
              "        [-0.04704544,  0.02703127]],\n",
              "\n",
              "       [[ 0.02207979, -0.02787979],\n",
              "        [-0.02712367,  0.00078436],\n",
              "        [-0.04704544,  0.02703127],\n",
              "        [-0.04704544,  0.02703127],\n",
              "        [-0.04704544,  0.02703127]],\n",
              "\n",
              "       [[-0.00643675,  0.00727897],\n",
              "        [-0.02712367,  0.00078436],\n",
              "        [-0.04704544,  0.02703127],\n",
              "        [-0.04704544,  0.02703127],\n",
              "        [-0.04704544,  0.02703127]]], dtype=float32)"
            ]
          },
          "metadata": {},
          "execution_count": 16
        }
      ]
    },
    {
      "cell_type": "code",
      "source": [],
      "metadata": {
        "id": "15ZloX2SRytB"
      },
      "execution_count": null,
      "outputs": []
    },
    {
      "cell_type": "code",
      "source": [
        "from keras.datasets import imdb\n",
        "from keras.preprocessing.text import Tokenizer\n",
        "from keras.utils import pad_sequences\n",
        "from keras import Sequential\n",
        "from keras.layers import Dense,SimpleRNN,Embedding,Flatten"
      ],
      "metadata": {
        "id": "FE71hW3AHR-8"
      },
      "execution_count": 17,
      "outputs": []
    },
    {
      "cell_type": "code",
      "source": [
        "(X_train,y_train),(X_test,y_test) = imdb.load_data()"
      ],
      "metadata": {
        "colab": {
          "base_uri": "https://localhost:8080/"
        },
        "id": "-l6X4kVIHW6z",
        "outputId": "2da60b92-02f0-4cbe-b768-3acdd0bc67ec"
      },
      "execution_count": 18,
      "outputs": [
        {
          "output_type": "stream",
          "name": "stdout",
          "text": [
            "Downloading data from https://storage.googleapis.com/tensorflow/tf-keras-datasets/imdb.npz\n",
            "17464789/17464789 [==============================] - 0s 0us/step\n"
          ]
        }
      ]
    },
    {
      "cell_type": "code",
      "source": [
        "X_train = pad_sequences(X_train,padding='post',maxlen=50,truncating='post')\n",
        "X_test = pad_sequences(X_test,padding='post',maxlen=50,truncating='post')"
      ],
      "metadata": {
        "id": "GfWj0GTyHaCF"
      },
      "execution_count": 34,
      "outputs": []
    },
    {
      "cell_type": "code",
      "source": [
        "X_train.shape"
      ],
      "metadata": {
        "colab": {
          "base_uri": "https://localhost:8080/"
        },
        "id": "p5A9Os1zHiLT",
        "outputId": "1a8bc2f6-9188-49f4-ef1f-b93f94fa0994"
      },
      "execution_count": 35,
      "outputs": [
        {
          "output_type": "execute_result",
          "data": {
            "text/plain": [
              "(25000, 50)"
            ]
          },
          "metadata": {},
          "execution_count": 35
        }
      ]
    },
    {
      "cell_type": "code",
      "source": [
        "model = Sequential()\n",
        "model.add(Embedding(100000, 2,input_length=50))\n",
        "model.add(SimpleRNN(32,return_sequences=False))\n",
        "model.add(Dense(1, activation='sigmoid'))\n",
        "\n",
        "model.summary()"
      ],
      "metadata": {
        "colab": {
          "base_uri": "https://localhost:8080/"
        },
        "id": "YvUISCcwHjps",
        "outputId": "bf399a5e-dc70-4892-ecc5-26ef44a5a53e"
      },
      "execution_count": 38,
      "outputs": [
        {
          "output_type": "stream",
          "name": "stdout",
          "text": [
            "Model: \"sequential_10\"\n",
            "_________________________________________________________________\n",
            " Layer (type)                Output Shape              Param #   \n",
            "=================================================================\n",
            " embedding_10 (Embedding)    (None, 50, 2)             200000    \n",
            "                                                                 \n",
            " simple_rnn_7 (SimpleRNN)    (None, 32)                1120      \n",
            "                                                                 \n",
            " dense_7 (Dense)             (None, 1)                 33        \n",
            "                                                                 \n",
            "=================================================================\n",
            "Total params: 201153 (785.75 KB)\n",
            "Trainable params: 201153 (785.75 KB)\n",
            "Non-trainable params: 0 (0.00 Byte)\n",
            "_________________________________________________________________\n"
          ]
        }
      ]
    },
    {
      "cell_type": "code",
      "source": [
        "model.compile(optimizer='adam', loss='binary_crossentropy', metrics=['acc'])\n",
        "history = model.fit(X_train, y_train,epochs=5,validation_data=(X_test,y_test))"
      ],
      "metadata": {
        "colab": {
          "base_uri": "https://localhost:8080/"
        },
        "id": "xy70ad76H8B9",
        "outputId": "2c53cf5d-9d25-40cb-b062-032b65734d08"
      },
      "execution_count": 39,
      "outputs": [
        {
          "output_type": "stream",
          "name": "stdout",
          "text": [
            "Epoch 1/5\n",
            "782/782 [==============================] - 16s 18ms/step - loss: 0.6436 - acc: 0.5986 - val_loss: 0.4690 - val_acc: 0.7808\n",
            "Epoch 2/5\n",
            "782/782 [==============================] - 14s 18ms/step - loss: 0.3911 - acc: 0.8294 - val_loss: 0.4133 - val_acc: 0.8146\n",
            "Epoch 3/5\n",
            "782/782 [==============================] - 14s 18ms/step - loss: 0.2586 - acc: 0.8978 - val_loss: 0.4897 - val_acc: 0.8031\n",
            "Epoch 4/5\n",
            "782/782 [==============================] - 16s 21ms/step - loss: 0.1814 - acc: 0.9343 - val_loss: 0.4733 - val_acc: 0.7909\n",
            "Epoch 5/5\n",
            "782/782 [==============================] - 14s 18ms/step - loss: 0.1307 - acc: 0.9549 - val_loss: 0.6183 - val_acc: 0.7907\n"
          ]
        }
      ]
    }
  ]
}