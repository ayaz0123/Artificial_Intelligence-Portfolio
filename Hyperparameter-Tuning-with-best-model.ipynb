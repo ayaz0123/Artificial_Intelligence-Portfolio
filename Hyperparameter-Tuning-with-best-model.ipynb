{
 "cells": [
  {
   "cell_type": "code",
   "execution_count": null,
   "metadata": {},
   "outputs": [],
   "source": [
    "import pandas as pd\n",
    "import numpy as np\n",
    "import matplotlib.pyplot as plt\n",
    "import seaborn as sns\n",
    "from sklearn.model_selection import GridSearchCV, train_test_split\n",
    "from sklearn.linear_model import LinearRegression, Lasso, Ridge\n",
    "from sklearn.svm import SVR\n",
    "from sklearn.ensemble import RandomForestRegressor, GradientBoostingRegressor\n",
    "from sklearn.neighbors import KNeighborsRegressor\n",
    "from sklearn.metrics import mean_squared_error, mean_absolute_error, r2_score\n",
    "from sklearn.preprocessing import LabelEncoder"
   ]
  },
  {
   "cell_type": "code",
   "execution_count": null,
   "metadata": {},
   "outputs": [],
   "source": [
    "# load and encode the dataset and split it into train and test sets\n",
    "df = sns.load_dataset('tips')\n",
    "le = LabelEncoder()\n",
    "for i in df.columns:\n",
    "    if df[i].dtype=='category':\n",
    "        df[i]=le.fit_transform(df[i])\n",
    "X = df.drop('tip', axis=1)\n",
    "y = df['tip']\n",
    "X_train, X_test, y_train, y_test = train_test_split(X, y, test_size=0.2, random_state=42)"
   ]
  },
  {
   "cell_type": "code",
   "execution_count": null,
   "metadata": {},
   "outputs": [],
   "source": [
    "# define our models to be evaluated\n",
    "\n",
    "models = {\n",
    "            'LinearRegression': LinearRegression(),\n",
    "            'Ridge Regression': Ridge(),\n",
    "            'Lasso Regression': Lasso(),\n",
    "            'SVR': SVR(),\n",
    "            'RandomForestRegressor': RandomForestRegressor(),\n",
    "            'GradientBoostingRegressor': GradientBoostingRegressor(),\n",
    "            'KNeighborsRegressor': KNeighborsRegressor()\n",
    "            }\n",
    "\n",
    "params = {\n",
    "    'LinearRegression': {'fit_intercept': [True, False]},\n",
    "    'Ridge Regression': {'alpha': [0.1, 1.0, 10.0]},\n",
    "    'Lasso Regression': {'alpha': [0.1, 1.0, 10.0]},\n",
    "    'SVR': {'kernel': ['linear', 'rbf', 'poly'], 'gamma': ['scale', 'auto']},\n",
    "    'RandomForestRegressor': {'n_estimators': [5, 10, 50], 'max_features': ['sqrt', 'log2']},\n",
    "    'GradientBoostingRegressor': {'n_estimators': [5, 10, 50], 'max_features': ['sqrt', 'log2']},\n",
    "    'KNeighborsRegressor': {'n_neighbors': [5, 10, 15], 'weights': ['uniform', 'distance'], 'algorithm': ['auto', 'ball_tree', 'kd_tree', 'brute']}}"
   ]
  },
  {
   "cell_type": "code",
   "execution_count": null,
   "metadata": {},
   "outputs": [],
   "source": [
    "tuned_models = {}\n",
    "\n",
    "for name, model in models.items():\n",
    "    grid = GridSearchCV(model, params[name], cv=5, scoring='neg_mean_squared_error')\n",
    "    grid.fit(X_train, y_train)\n",
    "    \n",
    "    print(f'Best Parameters for {name}: {grid.best_params_}')\n",
    "    tuned_models[name] = grid.best_estimator_\n",
    "\n",
    "best_score = float('inf')\n",
    "best_model_name = None\n",
    "\n",
    "for name, model in tuned_models.items():\n",
    "    y_pred = model.predict(X_test)\n",
    "    mse = mean_squared_error(y_test, y_pred)\n",
    "    if mse < best_score:\n",
    "        best_score = mse\n",
    "        best_model_name = name\n",
    "print(f'Best Model: {best_model_name}')"
   ]
  }
 ],
 "metadata": {
  "kernelspec": {
   "display_name": "ML-ENV",
   "language": "python",
   "name": "python3"
  },
  "language_info": {
   "name": "python",
   "version": "3.11.7"
  }
 },
 "nbformat": 4,
 "nbformat_minor": 2
}
